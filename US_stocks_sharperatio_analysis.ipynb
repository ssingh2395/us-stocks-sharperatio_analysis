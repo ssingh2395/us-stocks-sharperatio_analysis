{
  "nbformat": 4,
  "nbformat_minor": 0,
  "metadata": {
    "colab": {
      "private_outputs": true,
      "provenance": []
    },
    "kernelspec": {
      "name": "python3",
      "display_name": "Python 3"
    },
    "language_info": {
      "name": "python"
    }
  },
  "cells": [
    {
      "cell_type": "code",
      "source": [
        "pip install yfinance "
      ],
      "metadata": {
        "id": "riCsCTwpNbsY"
      },
      "execution_count": null,
      "outputs": []
    },
    {
      "cell_type": "code",
      "execution_count": null,
      "metadata": {
        "id": "2c2F85eiL0eS"
      },
      "outputs": [],
      "source": [
        "import pandas as pd \n",
        "import numpy as np\n",
        "import matplotlib.pyplot as plt\n",
        "import seaborn as sns \n",
        "plt.style.use(\"seaborn\")\n",
        "pd.options.display.float_format = '{:.4f}'.format\n",
        "import yfinance as yf"
      ]
    },
    {
      "cell_type": "code",
      "source": [
        "ticker = [ \"AXP\", \"META\", \"INTC\", \"MCD\", \"PG\", \"WMT\" ]\n",
        "\n",
        "us_stocks = yf.download(ticker, start = \"2013-12-31\", end = \"2018-12-31\")\n"
      ],
      "metadata": {
        "id": "2RiNOPTYMoeu"
      },
      "execution_count": null,
      "outputs": []
    },
    {
      "cell_type": "code",
      "source": [
        "us_stocks.head()\n",
        "\n"
      ],
      "metadata": {
        "id": "7mRvc5xDQp7w"
      },
      "execution_count": null,
      "outputs": []
    },
    {
      "cell_type": "code",
      "source": [
        "us_stocks.tail()\n",
        "us_stocks.info()"
      ],
      "metadata": {
        "id": "mhUik1a2jYor"
      },
      "execution_count": null,
      "outputs": []
    },
    {
      "cell_type": "code",
      "source": [
        "returns = us_stocks.Close.pct_change().dropna()\n",
        "returns.head()"
      ],
      "metadata": {
        "id": "WNsYoDu7Rilv"
      },
      "execution_count": null,
      "outputs": []
    },
    {
      "cell_type": "code",
      "source": [
        "def ann_risk_return(returns_df):\n",
        "    summary = returns_df.agg([\"mean\", \"std\"]).T\n",
        "    summary.columns = [\"Return\", \"Risk\"]\n",
        "    summary.Return = summary.Return*252\n",
        "    summary.Risk = summary.Risk * np.sqrt(252)\n",
        "    return summary\n"
      ],
      "metadata": {
        "id": "EGd3ixqylUKY"
      },
      "execution_count": null,
      "outputs": []
    },
    {
      "cell_type": "code",
      "source": [
        "# Whole sample risk and returns "
      ],
      "metadata": {
        "id": "ttZpOcUMjvnc"
      },
      "execution_count": null,
      "outputs": []
    },
    {
      "cell_type": "code",
      "source": [
        "summary = ann_risk_return(returns)\n",
        "summary"
      ],
      "metadata": {
        "id": "TLTQGnVVlVjx"
      },
      "execution_count": null,
      "outputs": []
    },
    {
      "cell_type": "code",
      "source": [
        "noa = len(us_stocks.columns)\n",
        "noa\n",
        "nop = 100000\n",
        "nop"
      ],
      "metadata": {
        "id": "wOJJY641le4S"
      },
      "execution_count": null,
      "outputs": []
    },
    {
      "cell_type": "code",
      "source": [
        "np.random.seed(123)\n",
        "matrix = np.random.random(noa * nop).reshape(nop, noa)\n",
        "\n",
        "matrix"
      ],
      "metadata": {
        "id": "--_EJ8Fdlj9Y"
      },
      "execution_count": null,
      "outputs": []
    },
    {
      "cell_type": "code",
      "source": [
        "matrix.sum(axis = 1, keepdims= True)"
      ],
      "metadata": {
        "id": "fzmeU9U7lnyT"
      },
      "execution_count": null,
      "outputs": []
    },
    {
      "cell_type": "code",
      "source": [
        "weights = matrix / matrix.sum(axis = 1, keepdims= True)\n",
        "weights"
      ],
      "metadata": {
        "id": "bh7SfY_6l4Xj"
      },
      "execution_count": null,
      "outputs": []
    },
    {
      "cell_type": "code",
      "source": [
        "weights.sum(axis = 1, keepdims= True)\n",
        "\n",
        "returns"
      ],
      "metadata": {
        "id": "ZBwmBIh9l7qT"
      },
      "execution_count": null,
      "outputs": []
    },
    {
      "cell_type": "code",
      "source": [
        "port_returns = weights.dot(returns.set_index(\"Date\"))\n",
        "port_returns"
      ],
      "metadata": {
        "id": "elodMCwBl_AK"
      },
      "execution_count": null,
      "outputs": []
    },
    {
      "cell_type": "code",
      "source": [
        "port_ret = returns.set_index\n",
        ".dot(weights)"
      ],
      "metadata": {
        "id": "rwMpF_f2ob13"
      },
      "execution_count": null,
      "outputs": []
    }
  ]
}